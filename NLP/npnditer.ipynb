{
 "cells": [
  {
   "cell_type": "code",
   "execution_count": 2,
   "metadata": {
    "collapsed": true
   },
   "outputs": [],
   "source": [
    "import numpy as np\n",
    "import random"
   ]
  },
  {
   "cell_type": "code",
   "execution_count": 27,
   "metadata": {
    "collapsed": false
   },
   "outputs": [
    {
     "name": "stdout",
     "output_type": "stream",
     "text": [
      "[[ 0  5 10 15]\n",
      " [20 25 30 35]\n",
      " [40 45 50 55]] \n",
      "\n",
      "0 5 10 15 20 25 30 35 40 45 50 55 "
     ]
    }
   ],
   "source": [
    "#Read: https://docs.scipy.org/doc/numpy/reference/arrays.nditer.html#arrays-nditer\n",
    "#Example of np.nditer function\n",
    "a = np.arange(0,60,5).reshape(3,4)\n",
    "print(a,\"\\n\")\n",
    "for x in np.nditer(a):\n",
    "    print(x,end = \" \" )"
   ]
  },
  {
   "cell_type": "code",
   "execution_count": 29,
   "metadata": {
    "collapsed": false
   },
   "outputs": [
    {
     "name": "stdout",
     "output_type": "stream",
     "text": [
      "[[ 0 20 40]\n",
      " [ 5 25 45]\n",
      " [10 30 50]\n",
      " [15 35 55]] \n",
      "\n",
      "0 5 10 15 20 25 30 35 40 45 50 55 "
     ]
    }
   ],
   "source": [
    "#Ordering is based on memory layout style not on the actual array style\n",
    "print(a.T,\"\\n\")\n",
    "for x in np.nditer(a.T):\n",
    "    print(x, end= \" \")"
   ]
  },
  {
   "cell_type": "code",
   "execution_count": 26,
   "metadata": {
    "collapsed": false
   },
   "outputs": [
    {
     "name": "stdout",
     "output_type": "stream",
     "text": [
      "[[ 0 20 40]\n",
      " [ 5 25 45]\n",
      " [10 30 50]\n",
      " [15 35 55]] \n",
      "\n",
      "0 20 40 5 25 45 10 30 50 15 35 55 "
     ]
    }
   ],
   "source": [
    "#Ordering can be specified by \"order\" which supports \"Fortran: F Style and \"C\" C style when we copy the array\n",
    "b = a.T.copy()\n",
    "print(b,\"\\n\")\n",
    "for x in np.nditer(a.T.copy(order = \"C\")):\n",
    "    print(x, end = \" \")"
   ]
  },
  {
   "cell_type": "code",
   "execution_count": 30,
   "metadata": {
    "collapsed": false
   },
   "outputs": [
    {
     "name": "stdout",
     "output_type": "stream",
     "text": [
      "[[ 0 20 40]\n",
      " [ 5 25 45]\n",
      " [10 30 50]\n",
      " [15 35 55]] \n",
      "\n",
      "0 5 10 15 20 25 30 35 40 45 50 55 "
     ]
    }
   ],
   "source": [
    "#Ordering in Fortran memory layout\n",
    "print(b,\"\\n\")\n",
    "for x in np.nditer(a.T.copy(order = \"F\")):\n",
    "    print(x, end = \" \")"
   ]
  },
  {
   "cell_type": "code",
   "execution_count": 31,
   "metadata": {
    "collapsed": false
   },
   "outputs": [
    {
     "name": "stdout",
     "output_type": "stream",
     "text": [
      "[[ 0 20 40]\n",
      " [ 5 25 45]\n",
      " [10 30 50]\n",
      " [15 35 55]] \n",
      "\n",
      "0 5 10 15 20 25 30 35 40 45 50 55 "
     ]
    }
   ],
   "source": [
    "#Keep existing ordering\n",
    "print(b,\"\\n\")\n",
    "for x in np.nditer(a.T.copy(order = \"K\")):\n",
    "    print(x, end = \" \")"
   ]
  },
  {
   "cell_type": "code",
   "execution_count": 44,
   "metadata": {
    "collapsed": false
   },
   "outputs": [
    {
     "name": "stdout",
     "output_type": "stream",
     "text": [
      "[[ 0  5 10 15]\n",
      " [20 25 30 35]\n",
      " [40 45 50 55]] \n",
      "\n",
      "0 10 20 30 40 50 60 70 80 90 100 110 \n",
      "\n",
      "[[ 0  5 10 15]\n",
      " [20 25 30 35]\n",
      " [40 45 50 55]]\n",
      "\n",
      " Now with changing input array \n",
      "\n",
      "0 10 20 30 40 50 60 70 80 90 100 110 \n",
      "\n",
      "[[  0  10  20  30]\n",
      " [ 40  50  60  70]\n",
      " [ 80  90 100 110]]\n"
     ]
    }
   ],
   "source": [
    "#Setting ops flags for modifying values of the reference array\n",
    "a = np.arange(0,60,5).reshape(3,4)\n",
    "print(a,\"\\n\")\n",
    "for x in np.nditer(a, op_flags = ['readwrite']):\n",
    "    x = x*2\n",
    "    print(x,end = \" \")\n",
    "print(\"\\n\")\n",
    "print(a)\n",
    "\n",
    "print(\"\\n\",\"Now with changing input array\",\"\\n\")\n",
    "for x in np.nditer(a, op_flags = ['readwrite']):\n",
    "    x[...] = x*2\n",
    "    print(x,end = \" \")\n",
    "print(\"\\n\")\n",
    "print(a) #Note input array is changed as well"
   ]
  },
  {
   "cell_type": "markdown",
   "metadata": {},
   "source": [
    "In examples above, the iterator was accesing elements of the array one at a time.\n",
    "Now a way to move the one dimensional innermost loop into code such that it is external to iterator\n",
    "Allows us to use the vectorized numpy operation"
   ]
  },
  {
   "cell_type": "code",
   "execution_count": 48,
   "metadata": {
    "collapsed": false
   },
   "outputs": [
    {
     "name": "stdout",
     "output_type": "stream",
     "text": [
      "[ 0 10 20 30 40 50 60 70 80 90] "
     ]
    }
   ],
   "source": [
    "a = np.arange(0,100,10).reshape(5,2)\n",
    "for x in np.nditer(a,flags = [\"external_loop\"]):\n",
    "    print(x, end = \" \")"
   ]
  },
  {
   "cell_type": "code",
   "execution_count": 50,
   "metadata": {
    "collapsed": false
   },
   "outputs": [
    {
     "name": "stdout",
     "output_type": "stream",
     "text": [
      "[ 0 20 40 60 80] [10 30 50 70 90] "
     ]
    }
   ],
   "source": [
    "for x in np.nditer(a,flags = [\"external_loop\"],order = \"F\"):\n",
    "    print(x, end = \" \")"
   ]
  },
  {
   "cell_type": "code",
   "execution_count": 51,
   "metadata": {
    "collapsed": false
   },
   "outputs": [
    {
     "name": "stdout",
     "output_type": "stream",
     "text": [
      "[ 0 10 20 30 40 50 60 70 80 90] "
     ]
    }
   ],
   "source": [
    "for x in np.nditer(a,flags = [\"external_loop\"],order = \"C\"):\n",
    "    print(x, end = \" \")"
   ]
  },
  {
   "cell_type": "markdown",
   "metadata": {},
   "source": [
    "During iteration, you may want to use the index of the current element in a computation. For example, you may want to visit the elements of an array in memory order, but use a C-order, Fortran-order, or multidimensional index to look up values in a different array.\n",
    "\n",
    "The Python iterator protocol doesn’t have a natural way to query these additional values from the iterator, so we introduce an alternate syntax for iterating with an nditer. This syntax explicitly works with the iterator object itself, so its properties are readily accessible during iteration. With this looping construct, the current value is accessible by indexing into the iterator, and the index being tracked is the property index or multi_index depending on what was requested.\n",
    "\n",
    "The Python interactive interpreter unfortunately prints out the values of expressions inside the while loop during each iteration of the loop. We have modified the output in the examples using this looping construct in order to be more readable."
   ]
  },
  {
   "cell_type": "markdown",
   "metadata": {},
   "source": [
    "How to get the index of current element when iterating?\n",
    "New syntax that works with the iterator object\n",
    "- Current value is accessible by indexing into the iterator\n",
    "- index being tracked is property index"
   ]
  },
  {
   "cell_type": "code",
   "execution_count": null,
   "metadata": {
    "collapsed": true
   },
   "outputs": [],
   "source": [
    "#Read: https://docs.scipy.org/doc/numpy/reference/arrays.nditer.html#arrays-nditer\n",
    "#Example of np.nditer function\n",
    "a = np.arange(96,108,2).reshape(2,3)\n",
    "it = np.nditer(a, flags = ['f_index'])\n",
    "while not it.finished:\n",
    "    print(\"%d, %d\" %(it[0],it.index), it.iternext())\n",
    "\n",
    "print(\"----\")\n",
    "it = np.nditer(a, flags=['multi_index'])\n",
    "while not it.finished:\n",
    "    print(\"%d <%s>\" %(it[0], it.multi_index),it.iternext(),it.finished)"
   ]
  },
  {
   "cell_type": "code",
   "execution_count": null,
   "metadata": {
    "collapsed": true
   },
   "outputs": [],
   "source": [
    "a = np.arange(96,108,2).reshape(2,3)\n",
    "it = np.nditer(a, op_flags = ['readwrite'], flags = ['multi_index'])\n",
    "while not it.finished:\n",
    "    print(\"%d %d\" %(it.multi_index[0], it.multi_index[1]),it.iternext(),it.finished)"
   ]
  },
  {
   "cell_type": "code",
   "execution_count": null,
   "metadata": {
    "collapsed": true
   },
   "outputs": [],
   "source": [
    "a = np.arange(96,108,2).reshape(2,3)\n",
    "it = np.nditer(a, op_flags = ['readwrite'], flags = ['multi_index'])\n",
    "while not it.finished:\n",
    "    it[0] = it.multi_index[1] - it.multi_index[0]\n",
    "    it.iternext()\n",
    "a"
   ]
  }
 ],
 "metadata": {
  "kernelspec": {
   "display_name": "Python 3",
   "language": "python",
   "name": "python3"
  },
  "language_info": {
   "codemirror_mode": {
    "name": "ipython",
    "version": 3
   },
   "file_extension": ".py",
   "mimetype": "text/x-python",
   "name": "python",
   "nbconvert_exporter": "python",
   "pygments_lexer": "ipython3",
   "version": "3.5.2"
  }
 },
 "nbformat": 4,
 "nbformat_minor": 2
}
